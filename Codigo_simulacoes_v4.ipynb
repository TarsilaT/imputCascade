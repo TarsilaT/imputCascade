{
 "cells": [
  {
   "cell_type": "code",
   "execution_count": null,
   "metadata": {},
   "outputs": [],
   "source": [
    "#!pip install utils\n",
    "#!pip install torch\n",
    "#!pip install minisom\n",
    "#!pip install pyclustering\n",
    "#!pip install wget \n",
    "#!pip uninstall scikit-learn\n",
    "#!pip install scikit-learn==1.2.2\n",
    "#!pip install gower\n",
    "#!pip install kmodes\n",
    "#!pip install kneebow\n",
    "#!pip install ucimlrepo\n",
    "#!pip install --upgrade pandas"
   ]
  },
  {
   "cell_type": "code",
   "execution_count": 1,
   "metadata": {},
   "outputs": [
    {
     "name": "stderr",
     "output_type": "stream",
     "text": [
      "c:\\Users\\DELL\\anaconda3\\lib\\site-packages\\pandas\\core\\computation\\expressions.py:21: UserWarning: Pandas requires version '2.8.4' or newer of 'numexpr' (version '2.8.1' currently installed).\n",
      "  from pandas.core.computation.check import NUMEXPR_INSTALLED\n",
      "c:\\Users\\DELL\\anaconda3\\lib\\site-packages\\pandas\\core\\arrays\\masked.py:60: UserWarning: Pandas requires version '1.3.6' or newer of 'bottleneck' (version '1.3.4' currently installed).\n",
      "  from pandas.core import (\n"
     ]
    }
   ],
   "source": [
    "## Libraries\n",
    "import logging\n",
    "import numpy as np\n",
    "import pandas as pd\n",
    "import os\n",
    "import time\n",
    "from joblib import Parallel, delayed\n",
    "from utils import *\n",
    "from utils_cascade import *\n",
    "\n",
    "# Configurando o nível de registro (pode ser DEBUG, INFO, WARNING, ERROR, ou CRITICAL)\n",
    "logging.basicConfig(level=logging.INFO)"
   ]
  },
  {
   "cell_type": "markdown",
   "metadata": {},
   "source": [
    "Pegando uma base para o estudo"
   ]
  },
  {
   "cell_type": "code",
   "execution_count": 2,
   "metadata": {},
   "outputs": [],
   "source": [
    "#iris_df = pd.read_parquet('C:/Users/DELL/imput-cascate/docs/source/Dados/iris_df(teste).parquet')\n",
    "wine_df = pd.read_parquet('C:/Users/DELL/imput-cascate/docs/source/Dados/wine_df.parquet')\n",
    "#pima_df = pd.read_parquet('C:/Users/DELL/imput-cascate/docs/source/Dados/pima_df.parquet')\n",
    "#boston_df = pd.read_parquet('C:/Users/DELL/imput-cascate/docs/source/Dados/boston_df.parquet').drop(columns=['RAD'])\n",
    "#abalone_df = pd.read_parquet('C:/Users/DELL/imput-cascate/docs/source/Dados/abalone_df.parquet').drop(columns=['Sex'])\n",
    "#california_df = pd.read_parquet('C:/Users/DELL/imput-cascate/docs/source/Dados/california_df.parquet')\n",
    "#gamma_df = pd.read_parquet('C:/Users/DELL/imput-cascate/docs/source/Dados/gamma_df.parquet')\n",
    "#electric_df = pd.read_parquet('C:/Users/DELL/imput-cascate/docs/source/Dados/electric_df.parquet')\n",
    "#yellow_df = pd.read_parquet('C:/Users/DELL/imput-cascate/docs/source/Dados/yellow_df.parquet')"
   ]
  },
  {
   "cell_type": "code",
   "execution_count": 3,
   "metadata": {},
   "outputs": [],
   "source": [
    "#df = iris_df\n",
    "df = wine_df\n",
    "#df = pima_df\n",
    "#df = boston_df\n",
    "#df = abalone_df\n",
    "#df = california_df\n",
    "#df = gamma_df\n",
    "#df = electric_df\n",
    "#df = yellow_df"
   ]
  },
  {
   "cell_type": "code",
   "execution_count": 4,
   "metadata": {},
   "outputs": [
    {
     "name": "stdout",
     "output_type": "stream",
     "text": [
      "Linhas  : 178\n",
      "Colunas : 13\n"
     ]
    }
   ],
   "source": [
    "print('Linhas  :', df.iloc[:,0].count())\n",
    "print('Colunas :', len(df.columns))"
   ]
  },
  {
   "cell_type": "markdown",
   "metadata": {},
   "source": [
    "Definindo os parâmetros"
   ]
  },
  {
   "cell_type": "code",
   "execution_count": 16,
   "metadata": {},
   "outputs": [
    {
     "name": "stderr",
     "output_type": "stream",
     "text": [
      "C:\\Users\\DELL\\AppData\\Local\\Temp\\ipykernel_11744\\767467942.py:2: DtypeWarning: Columns (12) have mixed types. Specify dtype option on import or set low_memory=False.\n",
      "  params = pd.read_csv(\"C:/Users/DELL/imput-cascate/docs/source/params_teste_full.csv\", sep = ';', decimal=',').fillna(0)\n"
     ]
    }
   ],
   "source": [
    "# Ler os parâmetros do arquivo CSV\n",
    "params = pd.read_csv(\"C:/Users/DELL/imput-cascate/docs/source/params_teste_full.csv\", sep = ';', decimal=',').fillna(0)\n",
    "\n",
    "# params_df = params_df.sort_values(by=['dados','mec_ausencia','pct_ausencia','cluster_algorithm','n_clusters_knn','order_cluster','order_column','dim_x_som',\n",
    "#                                       'dim_y_som','sigma_som','lr_som','max_iter_som','n_clusters_kmd','n_clusters_aggcl','affinity_aggcl','metric_dbscan',\n",
    "#                                       'min_samples_dbscan','eps_dbscan'], \n",
    "#                                   ascending=[True,True,True,False,True,True,True,True,True,True,True,True,True,True,True,True,True,True])"
   ]
  },
  {
   "cell_type": "code",
   "execution_count": 17,
   "metadata": {},
   "outputs": [],
   "source": [
    "## Filtrando por dados\n",
    "params_df = params.loc[(params['dados'] == 'wine')]  "
   ]
  },
  {
   "cell_type": "code",
   "execution_count": 19,
   "metadata": {},
   "outputs": [],
   "source": [
    "#params_df"
   ]
  },
  {
   "cell_type": "markdown",
   "metadata": {},
   "source": [
    "## Imputação Cascata Paralelizada"
   ]
  },
  {
   "cell_type": "code",
   "execution_count": 21,
   "metadata": {},
   "outputs": [
    {
     "name": "stderr",
     "output_type": "stream",
     "text": [
      "INFO:root:Iniciando simulação 1110001...\n"
     ]
    },
    {
     "name": "stderr",
     "output_type": "stream",
     "text": [
      "INFO:root:Eraser do MAR_0.1 concluído. Tempo decorrido: 0m.0s\n",
      "INFO:root:Inicio da imputação univariada.\n",
      "c:\\Users\\DELL\\imput-cascate\\notebooks\\utils_cascade.py:1156: FutureWarning: A value is trying to be set on a copy of a DataFrame or Series through chained assignment using an inplace method.\n",
      "The behavior will change in pandas 3.0. This inplace method will never work because the intermediate object on which we are setting values always behaves as a copy.\n",
      "\n",
      "For example, when doing 'df[col].method(value, inplace=True)', try using 'df.method({col: value}, inplace=True)' or df[col] = df[col].method(value) instead, to perform the operation inplace on the original object.\n",
      "\n",
      "\n",
      "  df_g1_median[name].fillna(median, inplace = True)\n",
      "INFO:root:Imputação univariada concluída! Tempo decorrido: 0m.0s\n",
      "INFO:root:Iniciando simulação 1211921...\n",
      "INFO:root:Eraser do MAR_0.2 concluído. Tempo decorrido: 0m.0s\n",
      "INFO:root:Inicio da imputação univariada.\n",
      "c:\\Users\\DELL\\imput-cascate\\notebooks\\utils_cascade.py:1156: FutureWarning: A value is trying to be set on a copy of a DataFrame or Series through chained assignment using an inplace method.\n",
      "The behavior will change in pandas 3.0. This inplace method will never work because the intermediate object on which we are setting values always behaves as a copy.\n",
      "\n",
      "For example, when doing 'df[col].method(value, inplace=True)', try using 'df.method({col: value}, inplace=True)' or df[col] = df[col].method(value) instead, to perform the operation inplace on the original object.\n",
      "\n",
      "\n",
      "  df_g1_median[name].fillna(median, inplace = True)\n",
      "INFO:root:Imputação univariada concluída! Tempo decorrido: 0m.0s\n",
      "INFO:root:Iniciando simulação 1313841...\n",
      "INFO:root:Eraser do MAR_0.3 concluído. Tempo decorrido: 0m.0s\n",
      "INFO:root:Inicio da imputação univariada.\n",
      "c:\\Users\\DELL\\imput-cascate\\notebooks\\utils_cascade.py:1156: FutureWarning: A value is trying to be set on a copy of a DataFrame or Series through chained assignment using an inplace method.\n",
      "The behavior will change in pandas 3.0. This inplace method will never work because the intermediate object on which we are setting values always behaves as a copy.\n",
      "\n",
      "For example, when doing 'df[col].method(value, inplace=True)', try using 'df.method({col: value}, inplace=True)' or df[col] = df[col].method(value) instead, to perform the operation inplace on the original object.\n",
      "\n",
      "\n",
      "  df_g1_median[name].fillna(median, inplace = True)\n",
      "INFO:root:Imputação univariada concluída! Tempo decorrido: 0m.0s\n",
      "INFO:root:Iniciando simulação 1615761...\n",
      "INFO:root:Eraser do MNAR_0.1 concluído. Tempo decorrido: 0m.0s\n",
      "INFO:root:Inicio da imputação univariada.\n",
      "c:\\Users\\DELL\\imput-cascate\\notebooks\\utils_cascade.py:1156: FutureWarning: A value is trying to be set on a copy of a DataFrame or Series through chained assignment using an inplace method.\n",
      "The behavior will change in pandas 3.0. This inplace method will never work because the intermediate object on which we are setting values always behaves as a copy.\n",
      "\n",
      "For example, when doing 'df[col].method(value, inplace=True)', try using 'df.method({col: value}, inplace=True)' or df[col] = df[col].method(value) instead, to perform the operation inplace on the original object.\n",
      "\n",
      "\n",
      "  df_g1_median[name].fillna(median, inplace = True)\n",
      "INFO:root:Imputação univariada concluída! Tempo decorrido: 0m.0s\n",
      "INFO:root:Iniciando simulação 1717681...\n",
      "INFO:root:Eraser do MNAR_0.2 concluído. Tempo decorrido: 0m.0s\n",
      "INFO:root:Inicio da imputação univariada.\n",
      "c:\\Users\\DELL\\imput-cascate\\notebooks\\utils_cascade.py:1156: FutureWarning: A value is trying to be set on a copy of a DataFrame or Series through chained assignment using an inplace method.\n",
      "The behavior will change in pandas 3.0. This inplace method will never work because the intermediate object on which we are setting values always behaves as a copy.\n",
      "\n",
      "For example, when doing 'df[col].method(value, inplace=True)', try using 'df.method({col: value}, inplace=True)' or df[col] = df[col].method(value) instead, to perform the operation inplace on the original object.\n",
      "\n",
      "\n",
      "  df_g1_median[name].fillna(median, inplace = True)\n",
      "INFO:root:Imputação univariada concluída! Tempo decorrido: 0m.0s\n",
      "INFO:root:Iniciando simulação 1819601...\n",
      "INFO:root:Eraser do MNAR_0.3 concluído. Tempo decorrido: 0m.0s\n",
      "INFO:root:Inicio da imputação univariada.\n",
      "c:\\Users\\DELL\\imput-cascate\\notebooks\\utils_cascade.py:1156: FutureWarning: A value is trying to be set on a copy of a DataFrame or Series through chained assignment using an inplace method.\n",
      "The behavior will change in pandas 3.0. This inplace method will never work because the intermediate object on which we are setting values always behaves as a copy.\n",
      "\n",
      "For example, when doing 'df[col].method(value, inplace=True)', try using 'df.method({col: value}, inplace=True)' or df[col] = df[col].method(value) instead, to perform the operation inplace on the original object.\n",
      "\n",
      "\n",
      "  df_g1_median[name].fillna(median, inplace = True)\n",
      "INFO:root:Imputação univariada concluída! Tempo decorrido: 0m.0s\n",
      "INFO:root:Iniciando simulação 111111521...\n",
      "INFO:root:Eraser do MCAR_0.1 concluído. Tempo decorrido: 0m.0s\n",
      "INFO:root:Inicio da imputação univariada.\n",
      "c:\\Users\\DELL\\imput-cascate\\notebooks\\utils_cascade.py:1156: FutureWarning: A value is trying to be set on a copy of a DataFrame or Series through chained assignment using an inplace method.\n",
      "The behavior will change in pandas 3.0. This inplace method will never work because the intermediate object on which we are setting values always behaves as a copy.\n",
      "\n",
      "For example, when doing 'df[col].method(value, inplace=True)', try using 'df.method({col: value}, inplace=True)' or df[col] = df[col].method(value) instead, to perform the operation inplace on the original object.\n",
      "\n",
      "\n",
      "  df_g1_median[name].fillna(median, inplace = True)\n",
      "INFO:root:Imputação univariada concluída! Tempo decorrido: 0m.0s\n",
      "INFO:root:Iniciando simulação 112113441...\n",
      "INFO:root:Eraser do MCAR_0.2 concluído. Tempo decorrido: 0m.0s\n",
      "INFO:root:Inicio da imputação univariada.\n",
      "c:\\Users\\DELL\\imput-cascate\\notebooks\\utils_cascade.py:1156: FutureWarning: A value is trying to be set on a copy of a DataFrame or Series through chained assignment using an inplace method.\n",
      "The behavior will change in pandas 3.0. This inplace method will never work because the intermediate object on which we are setting values always behaves as a copy.\n",
      "\n",
      "For example, when doing 'df[col].method(value, inplace=True)', try using 'df.method({col: value}, inplace=True)' or df[col] = df[col].method(value) instead, to perform the operation inplace on the original object.\n",
      "\n",
      "\n",
      "  df_g1_median[name].fillna(median, inplace = True)\n",
      "INFO:root:Imputação univariada concluída! Tempo decorrido: 0m.0s\n",
      "INFO:root:Iniciando simulação 113115361...\n",
      "INFO:root:Eraser do MCAR_0.3 concluído. Tempo decorrido: 0m.0s\n",
      "INFO:root:Inicio da imputação univariada.\n",
      "c:\\Users\\DELL\\imput-cascate\\notebooks\\utils_cascade.py:1156: FutureWarning: A value is trying to be set on a copy of a DataFrame or Series through chained assignment using an inplace method.\n",
      "The behavior will change in pandas 3.0. This inplace method will never work because the intermediate object on which we are setting values always behaves as a copy.\n",
      "\n",
      "For example, when doing 'df[col].method(value, inplace=True)', try using 'df.method({col: value}, inplace=True)' or df[col] = df[col].method(value) instead, to perform the operation inplace on the original object.\n",
      "\n",
      "\n",
      "  df_g1_median[name].fillna(median, inplace = True)\n",
      "INFO:root:Imputação univariada concluída! Tempo decorrido: 0m.0s\n"
     ]
    }
   ],
   "source": [
    "import pandas as pd\n",
    "from joblib import Parallel, delayed\n",
    "import time\n",
    "\n",
    "def preprocess_data(params_df, df):\n",
    "    cache = {}\n",
    "    for _, row in params_df.iterrows():\n",
    "        params = row.to_dict()\n",
    "        mec_ausencia = params['mec_ausencia']\n",
    "        pct_ausencia = params['pct_ausencia']\n",
    "        chave = (mec_ausencia, pct_ausencia)\n",
    "        \n",
    "        if chave not in cache:\n",
    "            dados, _, _, df_incompleto = eraser_with_params(df.copy(), params)\n",
    "\n",
    "            df_g1_mean, df_g1_median, time_g1 = univariate_imputation_with_params(df_incompleto)\n",
    "            avg_rmse_media, avg_sim_error_media, correl_bias_media = error_metrics(df.copy(), df_g1_mean)\n",
    "            avg_rmse_mediana, avg_sim_error_mediana, correl_bias_mediana = error_metrics(df.copy(), df_g1_median)\n",
    "\n",
    "            cache[chave] = (df_incompleto, avg_rmse_media, avg_sim_error_media, correl_bias_media,\n",
    "                            avg_rmse_mediana, avg_sim_error_mediana, correl_bias_mediana, time_g1)\n",
    "\n",
    "    return cache\n",
    "\n",
    "def process_cascade_imputation(row, df, cache):\n",
    "    params = row.to_dict()\n",
    "    mec_ausencia = params['mec_ausencia']\n",
    "    pct_ausencia = params['pct_ausencia']\n",
    "    chave = (mec_ausencia, pct_ausencia)\n",
    "\n",
    "    df_incompleto, avg_rmse_media, avg_sim_error_media, correl_bias_media, \\\n",
    "    avg_rmse_mediana, avg_sim_error_mediana, correl_bias_mediana, time_g1 = cache[chave]\n",
    "\n",
    "    idx_simulacao, df_g2_imput, time_g2 = cascade_imputation_with_params(df_incompleto.copy(), params)\n",
    "    avg_rmse_cascata, avg_sim_error_cascata, correl_bias_cascata = error_metrics(df.copy(), df_g2_imput)\n",
    "\n",
    "    return pd.DataFrame({\n",
    "        \"idx_simulacao\": [idx_simulacao],\n",
    "        \"avg_rmse_media\": [avg_rmse_media],\n",
    "        \"avg_sim_error_media\": [avg_sim_error_media],\n",
    "        \"correl_bias_media\": [correl_bias_media],\n",
    "        \"avg_rmse_mediana\": [avg_rmse_mediana],\n",
    "        \"avg_sim_error_mediana\": [avg_sim_error_mediana],\n",
    "        \"correl_bias_mediana\": [correl_bias_mediana],\n",
    "        \"time_g1\": [time_g1],\n",
    "        \"avg_rmse_cascata\": [avg_rmse_cascata],\n",
    "        \"avg_sim_error_cascata\": [avg_sim_error_cascata],\n",
    "        \"correl_bias_cascata\": [correl_bias_cascata],\n",
    "        \"time_g2\": [time_g2]\n",
    "    })\n",
    "\n",
    "\n",
    "cache = preprocess_data(params_df, df)\n",
    "\n",
    "start_parallel = time.time()\n",
    "results = Parallel(n_jobs=os.cpu_count())(delayed(process_cascade_imputation)(row, df, cache) for _, row in params_df.iterrows())\n",
    "final_results_df = pd.concat(results, ignore_index=True)\n",
    "end_parallel = time.time()\n",
    "\n",
    "print(\"O código rodou em: \", end_parallel - start_parallel)\n",
    "\n",
    "# Salvar em um arquivo CSV\n",
    "dados = params_df['dados']\n",
    "nome_resultado = f'Resultado_simulacao_{dados}'\n",
    "final_results_df.to_csv(f\"C:/Users/DELL/imput-cascate/docs/source/Resultado simulações/{nome_resultado}.csv\", index=False) "
   ]
  },
  {
   "cell_type": "code",
   "execution_count": 10,
   "metadata": {},
   "outputs": [
    {
     "ename": "ValueError",
     "evalue": "No objects to concatenate",
     "output_type": "error",
     "traceback": [
      "\u001b[1;31m---------------------------------------------------------------------------\u001b[0m",
      "\u001b[1;31mValueError\u001b[0m                                Traceback (most recent call last)",
      "Input \u001b[1;32mIn [10]\u001b[0m, in \u001b[0;36m<cell line: 5>\u001b[1;34m()\u001b[0m\n\u001b[0;32m      3\u001b[0m start_parallel \u001b[38;5;241m=\u001b[39m time\u001b[38;5;241m.\u001b[39mtime()\n\u001b[0;32m      4\u001b[0m results \u001b[38;5;241m=\u001b[39m Parallel(n_jobs\u001b[38;5;241m=\u001b[39mos\u001b[38;5;241m.\u001b[39mcpu_count())(delayed(process_cascade_imputation)(row, df, cache) \u001b[38;5;28;01mfor\u001b[39;00m _, row \u001b[38;5;129;01min\u001b[39;00m params_df\u001b[38;5;241m.\u001b[39miterrows())\n\u001b[1;32m----> 5\u001b[0m final_results_df \u001b[38;5;241m=\u001b[39m \u001b[43mpd\u001b[49m\u001b[38;5;241;43m.\u001b[39;49m\u001b[43mconcat\u001b[49m\u001b[43m(\u001b[49m\u001b[43mresults\u001b[49m\u001b[43m,\u001b[49m\u001b[43m \u001b[49m\u001b[43mignore_index\u001b[49m\u001b[38;5;241;43m=\u001b[39;49m\u001b[38;5;28;43;01mTrue\u001b[39;49;00m\u001b[43m)\u001b[49m\n\u001b[0;32m      6\u001b[0m end_parallel \u001b[38;5;241m=\u001b[39m time\u001b[38;5;241m.\u001b[39mtime()\n\u001b[0;32m      8\u001b[0m \u001b[38;5;28mprint\u001b[39m(\u001b[38;5;124m\"\u001b[39m\u001b[38;5;124mO código rodou em: \u001b[39m\u001b[38;5;124m\"\u001b[39m, end_parallel \u001b[38;5;241m-\u001b[39m start_parallel)\n",
      "File \u001b[1;32mc:\\Users\\DELL\\anaconda3\\lib\\site-packages\\pandas\\core\\reshape\\concat.py:382\u001b[0m, in \u001b[0;36mconcat\u001b[1;34m(objs, axis, join, ignore_index, keys, levels, names, verify_integrity, sort, copy)\u001b[0m\n\u001b[0;32m    379\u001b[0m \u001b[38;5;28;01melif\u001b[39;00m copy \u001b[38;5;129;01mand\u001b[39;00m using_copy_on_write():\n\u001b[0;32m    380\u001b[0m     copy \u001b[38;5;241m=\u001b[39m \u001b[38;5;28;01mFalse\u001b[39;00m\n\u001b[1;32m--> 382\u001b[0m op \u001b[38;5;241m=\u001b[39m \u001b[43m_Concatenator\u001b[49m\u001b[43m(\u001b[49m\n\u001b[0;32m    383\u001b[0m \u001b[43m    \u001b[49m\u001b[43mobjs\u001b[49m\u001b[43m,\u001b[49m\n\u001b[0;32m    384\u001b[0m \u001b[43m    \u001b[49m\u001b[43maxis\u001b[49m\u001b[38;5;241;43m=\u001b[39;49m\u001b[43maxis\u001b[49m\u001b[43m,\u001b[49m\n\u001b[0;32m    385\u001b[0m \u001b[43m    \u001b[49m\u001b[43mignore_index\u001b[49m\u001b[38;5;241;43m=\u001b[39;49m\u001b[43mignore_index\u001b[49m\u001b[43m,\u001b[49m\n\u001b[0;32m    386\u001b[0m \u001b[43m    \u001b[49m\u001b[43mjoin\u001b[49m\u001b[38;5;241;43m=\u001b[39;49m\u001b[43mjoin\u001b[49m\u001b[43m,\u001b[49m\n\u001b[0;32m    387\u001b[0m \u001b[43m    \u001b[49m\u001b[43mkeys\u001b[49m\u001b[38;5;241;43m=\u001b[39;49m\u001b[43mkeys\u001b[49m\u001b[43m,\u001b[49m\n\u001b[0;32m    388\u001b[0m \u001b[43m    \u001b[49m\u001b[43mlevels\u001b[49m\u001b[38;5;241;43m=\u001b[39;49m\u001b[43mlevels\u001b[49m\u001b[43m,\u001b[49m\n\u001b[0;32m    389\u001b[0m \u001b[43m    \u001b[49m\u001b[43mnames\u001b[49m\u001b[38;5;241;43m=\u001b[39;49m\u001b[43mnames\u001b[49m\u001b[43m,\u001b[49m\n\u001b[0;32m    390\u001b[0m \u001b[43m    \u001b[49m\u001b[43mverify_integrity\u001b[49m\u001b[38;5;241;43m=\u001b[39;49m\u001b[43mverify_integrity\u001b[49m\u001b[43m,\u001b[49m\n\u001b[0;32m    391\u001b[0m \u001b[43m    \u001b[49m\u001b[43mcopy\u001b[49m\u001b[38;5;241;43m=\u001b[39;49m\u001b[43mcopy\u001b[49m\u001b[43m,\u001b[49m\n\u001b[0;32m    392\u001b[0m \u001b[43m    \u001b[49m\u001b[43msort\u001b[49m\u001b[38;5;241;43m=\u001b[39;49m\u001b[43msort\u001b[49m\u001b[43m,\u001b[49m\n\u001b[0;32m    393\u001b[0m \u001b[43m\u001b[49m\u001b[43m)\u001b[49m\n\u001b[0;32m    395\u001b[0m \u001b[38;5;28;01mreturn\u001b[39;00m op\u001b[38;5;241m.\u001b[39mget_result()\n",
      "File \u001b[1;32mc:\\Users\\DELL\\anaconda3\\lib\\site-packages\\pandas\\core\\reshape\\concat.py:445\u001b[0m, in \u001b[0;36m_Concatenator.__init__\u001b[1;34m(self, objs, axis, join, keys, levels, names, ignore_index, verify_integrity, copy, sort)\u001b[0m\n\u001b[0;32m    442\u001b[0m \u001b[38;5;28mself\u001b[39m\u001b[38;5;241m.\u001b[39mverify_integrity \u001b[38;5;241m=\u001b[39m verify_integrity\n\u001b[0;32m    443\u001b[0m \u001b[38;5;28mself\u001b[39m\u001b[38;5;241m.\u001b[39mcopy \u001b[38;5;241m=\u001b[39m copy\n\u001b[1;32m--> 445\u001b[0m objs, keys \u001b[38;5;241m=\u001b[39m \u001b[38;5;28;43mself\u001b[39;49m\u001b[38;5;241;43m.\u001b[39;49m\u001b[43m_clean_keys_and_objs\u001b[49m\u001b[43m(\u001b[49m\u001b[43mobjs\u001b[49m\u001b[43m,\u001b[49m\u001b[43m \u001b[49m\u001b[43mkeys\u001b[49m\u001b[43m)\u001b[49m\n\u001b[0;32m    447\u001b[0m \u001b[38;5;66;03m# figure out what our result ndim is going to be\u001b[39;00m\n\u001b[0;32m    448\u001b[0m ndims \u001b[38;5;241m=\u001b[39m \u001b[38;5;28mself\u001b[39m\u001b[38;5;241m.\u001b[39m_get_ndims(objs)\n",
      "File \u001b[1;32mc:\\Users\\DELL\\anaconda3\\lib\\site-packages\\pandas\\core\\reshape\\concat.py:507\u001b[0m, in \u001b[0;36m_Concatenator._clean_keys_and_objs\u001b[1;34m(self, objs, keys)\u001b[0m\n\u001b[0;32m    504\u001b[0m     objs_list \u001b[38;5;241m=\u001b[39m \u001b[38;5;28mlist\u001b[39m(objs)\n\u001b[0;32m    506\u001b[0m \u001b[38;5;28;01mif\u001b[39;00m \u001b[38;5;28mlen\u001b[39m(objs_list) \u001b[38;5;241m==\u001b[39m \u001b[38;5;241m0\u001b[39m:\n\u001b[1;32m--> 507\u001b[0m     \u001b[38;5;28;01mraise\u001b[39;00m \u001b[38;5;167;01mValueError\u001b[39;00m(\u001b[38;5;124m\"\u001b[39m\u001b[38;5;124mNo objects to concatenate\u001b[39m\u001b[38;5;124m\"\u001b[39m)\n\u001b[0;32m    509\u001b[0m \u001b[38;5;28;01mif\u001b[39;00m keys \u001b[38;5;129;01mis\u001b[39;00m \u001b[38;5;28;01mNone\u001b[39;00m:\n\u001b[0;32m    510\u001b[0m     objs_list \u001b[38;5;241m=\u001b[39m \u001b[38;5;28mlist\u001b[39m(com\u001b[38;5;241m.\u001b[39mnot_none(\u001b[38;5;241m*\u001b[39mobjs_list))\n",
      "\u001b[1;31mValueError\u001b[0m: No objects to concatenate"
     ]
    }
   ],
   "source": []
  },
  {
   "cell_type": "code",
   "execution_count": null,
   "metadata": {},
   "outputs": [],
   "source": [
    "aux = pd.read_csv(\"C:/Users/DELL/imput-cascate/docs/source/Resultado simulações/Resultado_simulacao_wine.csv\")\n",
    "aux"
   ]
  }
 ],
 "metadata": {
  "kernelspec": {
   "display_name": "env_cascate",
   "language": "python",
   "name": "python3"
  },
  "language_info": {
   "codemirror_mode": {
    "name": "ipython",
    "version": 3
   },
   "file_extension": ".py",
   "mimetype": "text/x-python",
   "name": "python",
   "nbconvert_exporter": "python",
   "pygments_lexer": "ipython3",
   "version": "3.9.12"
  },
  "orig_nbformat": 4
 },
 "nbformat": 4,
 "nbformat_minor": 2
}
